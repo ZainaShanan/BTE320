{
  "nbformat": 4,
  "nbformat_minor": 0,
  "metadata": {
    "colab": {
      "provenance": [],
      "authorship_tag": "ABX9TyNeRHNKIuUUKw4oUBaYRoHf",
      "include_colab_link": true
    },
    "kernelspec": {
      "name": "python3",
      "display_name": "Python 3"
    },
    "language_info": {
      "name": "python"
    }
  },
  "cells": [
    {
      "cell_type": "markdown",
      "metadata": {
        "id": "view-in-github",
        "colab_type": "text"
      },
      "source": [
        "<a href=\"https://colab.research.google.com/github/ZainaShanan/BTE320/blob/main/ListCreator.ipynb\" target=\"_parent\"><img src=\"https://colab.research.google.com/assets/colab-badge.svg\" alt=\"Open In Colab\"/></a>"
      ]
    },
    {
      "cell_type": "code",
      "execution_count": null,
      "metadata": {
        "colab": {
          "base_uri": "https://localhost:8080/"
        },
        "id": "8KmbQ27zTEb2",
        "outputId": "1dac2d57-268a-48ef-9cbd-3b28b932dd54"
      },
      "outputs": [
        {
          "output_type": "stream",
          "name": "stdout",
          "text": [
            "Enter a value: 4\n",
            "Enter a value: 5\n",
            "Enter a value: 0\n",
            "[4, 5]\n"
          ]
        }
      ],
      "source": [
        "L = []\n",
        "\n",
        "number = int(input('Enter a value: '))\n",
        "\n",
        "while number != 0:\n",
        "  L.append(number)\n",
        "  number = int(input('Enter a value: '))\n",
        "\n",
        "print(L)\n",
        "\n",
        "\n",
        "\n"
      ]
    }
  ]
}