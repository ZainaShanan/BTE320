{
  "nbformat": 4,
  "nbformat_minor": 0,
  "metadata": {
    "colab": {
      "provenance": [],
      "authorship_tag": "ABX9TyMq1/GonPXIY3rgMXqgQfq6",
      "include_colab_link": true
    },
    "kernelspec": {
      "name": "python3",
      "display_name": "Python 3"
    },
    "language_info": {
      "name": "python"
    }
  },
  "cells": [
    {
      "cell_type": "markdown",
      "metadata": {
        "id": "view-in-github",
        "colab_type": "text"
      },
      "source": [
        "<a href=\"https://colab.research.google.com/github/ZainaShanan/BTE320/blob/main/Parking_Garage.ipynb\" target=\"_parent\"><img src=\"https://colab.research.google.com/assets/colab-badge.svg\" alt=\"Open In Colab\"/></a>"
      ]
    },
    {
      "cell_type": "code",
      "execution_count": null,
      "metadata": {
        "id": "JN2Byt1hsYxr"
      },
      "outputs": [],
      "source": [
        "hours = int(input('Enter number of hours parked: '))\n",
        "fee = 2.5 * hours\n",
        "if fee <= 6:\n",
        "  print(6)\n",
        "elif fee >= 20:\n",
        "  print(20)\n",
        "else:\n",
        "  print(fee)"
      ]
    },
    {
      "cell_type": "code",
      "source": [],
      "metadata": {
        "id": "iFP_q4mXs7ON"
      },
      "execution_count": null,
      "outputs": []
    }
  ]
}