{
  "nbformat": 4,
  "nbformat_minor": 0,
  "metadata": {
    "colab": {
      "provenance": [],
      "authorship_tag": "ABX9TyNpSmEhbwMYQxAC0L51M+en",
      "include_colab_link": true
    },
    "kernelspec": {
      "name": "python3",
      "display_name": "Python 3"
    },
    "language_info": {
      "name": "python"
    }
  },
  "cells": [
    {
      "cell_type": "markdown",
      "metadata": {
        "id": "view-in-github",
        "colab_type": "text"
      },
      "source": [
        "<a href=\"https://colab.research.google.com/github/ZainaShanan/BTE320/blob/main/GarageFees_example.ipynb\" target=\"_parent\"><img src=\"https://colab.research.google.com/assets/colab-badge.svg\" alt=\"Open In Colab\"/></a>"
      ]
    },
    {
      "cell_type": "code",
      "execution_count": null,
      "metadata": {
        "id": "YKyGkCSs3ViO"
      },
      "outputs": [],
      "source": [
        "x = 5\n",
        "y = 2.5\n",
        "min_fee = 10\n",
        "max_fee = 20\n",
        "\n",
        "\n",
        "for n in range(1,9):\n",
        "  Hour_Rate = x+(y*n)\n",
        "  if Hour_Rate < min_fee:\n",
        "    print(f\"Hours:{n} Total Fees:{min_fee}\")\n",
        "  elif Hour_Rate > max_fee:\n",
        "    print(f\"Hours:{n} Total Fees:{max_fee}\")\n",
        "  else:\n",
        "    print(f\"Hours:{n} Total Fees:{Hour_Rate}\")"
      ]
    },
    {
      "cell_type": "code",
      "source": [
        "x = 5\n",
        "y = 2.5\n",
        "for n in range(1,9):\n",
        "  Hour_Rate = x+(y*n)\n",
        "  Formatted_HR = f'${Hour_Rate}'\n",
        "  print(f\"Number of Hours:{n} Total Fees:{Formatted_HR}\")"
      ],
      "metadata": {
        "id": "BnXpypMQ3WgF"
      },
      "execution_count": null,
      "outputs": []
    }
  ]
}