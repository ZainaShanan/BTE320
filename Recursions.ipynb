{
  "nbformat": 4,
  "nbformat_minor": 0,
  "metadata": {
    "colab": {
      "provenance": [],
      "authorship_tag": "ABX9TyNn684qRTsYEqb+ZELB8HL+",
      "include_colab_link": true
    },
    "kernelspec": {
      "name": "python3",
      "display_name": "Python 3"
    },
    "language_info": {
      "name": "python"
    }
  },
  "cells": [
    {
      "cell_type": "markdown",
      "metadata": {
        "id": "view-in-github",
        "colab_type": "text"
      },
      "source": [
        "<a href=\"https://colab.research.google.com/github/ZainaShanan/BTE320/blob/main/Recursions.ipynb\" target=\"_parent\"><img src=\"https://colab.research.google.com/assets/colab-badge.svg\" alt=\"Open In Colab\"/></a>"
      ]
    },
    {
      "cell_type": "code",
      "execution_count": null,
      "metadata": {
        "colab": {
          "base_uri": "https://localhost:8080/"
        },
        "id": "_Bg0ocp2SxNO",
        "outputId": "1731978b-c2cd-4e6c-de9a-33d39010418b"
      },
      "outputs": [
        {
          "output_type": "execute_result",
          "data": {
            "text/plain": [
              "720"
            ]
          },
          "metadata": {},
          "execution_count": 9
        }
      ],
      "source": [
        "def factR(n):\n",
        " if n == 1:\n",
        "  return 1\n",
        " else:\n",
        "  return n * factR(n-1)\n",
        "\n",
        "factR(6)\n",
        "\n"
      ]
    },
    {
      "cell_type": "code",
      "source": [
        "def reverse_string(s):\n",
        "  if len(s) == 1:\n",
        "    return s\n",
        "  else:\n",
        "    return s[-1] + reverse_string(s[:-1])\n",
        "\n",
        "reverse_string('hello')\n"
      ],
      "metadata": {
        "colab": {
          "base_uri": "https://localhost:8080/",
          "height": 35
        },
        "id": "HygX0iSAWZi9",
        "outputId": "965a1852-00f8-4779-cf62-7bca66477116"
      },
      "execution_count": 2,
      "outputs": [
        {
          "output_type": "execute_result",
          "data": {
            "text/plain": [
              "'olleh'"
            ],
            "application/vnd.google.colaboratory.intrinsic+json": {
              "type": "string"
            }
          },
          "metadata": {},
          "execution_count": 2
        }
      ]
    }
  ]
}