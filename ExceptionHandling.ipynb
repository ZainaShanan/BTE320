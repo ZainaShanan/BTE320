{
  "nbformat": 4,
  "nbformat_minor": 0,
  "metadata": {
    "colab": {
      "provenance": [],
      "authorship_tag": "ABX9TyMqa6McLToLfRtWsDqReqBf",
      "include_colab_link": true
    },
    "kernelspec": {
      "name": "python3",
      "display_name": "Python 3"
    },
    "language_info": {
      "name": "python"
    }
  },
  "cells": [
    {
      "cell_type": "markdown",
      "metadata": {
        "id": "view-in-github",
        "colab_type": "text"
      },
      "source": [
        "<a href=\"https://colab.research.google.com/github/ZainaShanan/BTE320/blob/main/ExceptionHandling.ipynb\" target=\"_parent\"><img src=\"https://colab.research.google.com/assets/colab-badge.svg\" alt=\"Open In Colab\"/></a>"
      ]
    },
    {
      "cell_type": "code",
      "execution_count": 1,
      "metadata": {
        "id": "RHOONGVKcH39"
      },
      "outputs": [],
      "source": [
        "def avg(alist):\n",
        "  try:\n",
        "    return sum(alist)/len(alist)\n",
        "  except ZeroDivisionError:\n",
        "    print('The list is empty. Division by zero is not allowed.')\n",
        "    return[]\n",
        "  except TypeError:\n",
        "    print('One or more items in the list are not numeric.')\n",
        "    return float('nan')\n",
        "  except:\n",
        "    print('Unkown error.')\n",
        "    return alist"
      ]
    },
    {
      "cell_type": "code",
      "source": [
        "L = ['a',4,5,6,7,8]\n",
        "avg(L)"
      ],
      "metadata": {
        "colab": {
          "base_uri": "https://localhost:8080/"
        },
        "id": "JteIDgUkcyRK",
        "outputId": "c74cabaf-fd61-4e39-e74e-b6da15aa2d61"
      },
      "execution_count": 9,
      "outputs": [
        {
          "output_type": "stream",
          "name": "stdout",
          "text": [
            "One or more items in the list are not numeric.\n"
          ]
        },
        {
          "output_type": "execute_result",
          "data": {
            "text/plain": [
              "nan"
            ]
          },
          "metadata": {},
          "execution_count": 9
        }
      ]
    }
  ]
}