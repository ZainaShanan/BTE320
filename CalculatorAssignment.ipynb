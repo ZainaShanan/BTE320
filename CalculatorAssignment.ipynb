{
  "nbformat": 4,
  "nbformat_minor": 0,
  "metadata": {
    "colab": {
      "provenance": [],
      "authorship_tag": "ABX9TyOcdpow2WED4H0HZzfaDD0I",
      "include_colab_link": true
    },
    "kernelspec": {
      "name": "python3",
      "display_name": "Python 3"
    },
    "language_info": {
      "name": "python"
    }
  },
  "cells": [
    {
      "cell_type": "markdown",
      "metadata": {
        "id": "view-in-github",
        "colab_type": "text"
      },
      "source": [
        "<a href=\"https://colab.research.google.com/github/ZainaShanan/BTE320/blob/main/CalculatorAssignment.ipynb\" target=\"_parent\"><img src=\"https://colab.research.google.com/assets/colab-badge.svg\" alt=\"Open In Colab\"/></a>"
      ]
    },
    {
      "cell_type": "code",
      "source": [
        "while True:\n",
        "  x = int(input(\"Enter first number: \"))\n",
        "  y = int(input(\"Enter second number: \"))\n",
        "  Operator = input(\"Enter the operator you want to use (+, -, *, /, //, %, **), break, continue:\")\n",
        "  if Operator == \"break\":\n",
        "    break\n",
        "  if Operator == \"+\":\n",
        "    print(x+y)\n",
        "  elif Operator == \"-\":\n",
        "    print(x-y)\n",
        "  elif Operator == \"*\":\n",
        "    print(x*y)\n",
        "  elif Operator == \"/\":\n",
        "    print(x/y)\n",
        "  elif Operator == \"//\":\n",
        "    print(x//y)\n",
        "  elif Operator == \"%\":\n",
        "    print(x%y)\n",
        "  elif Operator == \"**\":\n",
        "    print(x**y)\n",
        "  else:\n",
        "    continue"
      ],
      "metadata": {
        "colab": {
          "base_uri": "https://localhost:8080/"
        },
        "id": "w_J_gOuL5Egg",
        "outputId": "5682e8c8-d750-4ca1-91e3-c3eab4ffd4d5"
      },
      "execution_count": 8,
      "outputs": [
        {
          "name": "stdout",
          "output_type": "stream",
          "text": [
            "Enter first number: 2\n",
            "Enter second number: 2\n",
            "Enter the operator you want to use (+, -, *, /, //, %, **), break, continue:break\n"
          ]
        }
      ]
    }
  ]
}