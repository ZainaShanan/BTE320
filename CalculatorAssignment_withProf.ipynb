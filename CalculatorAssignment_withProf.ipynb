{
  "nbformat": 4,
  "nbformat_minor": 0,
  "metadata": {
    "colab": {
      "provenance": [],
      "authorship_tag": "ABX9TyPwaElaq4eBONEqkbre0zQ8",
      "include_colab_link": true
    },
    "kernelspec": {
      "name": "python3",
      "display_name": "Python 3"
    },
    "language_info": {
      "name": "python"
    }
  },
  "cells": [
    {
      "cell_type": "markdown",
      "metadata": {
        "id": "view-in-github",
        "colab_type": "text"
      },
      "source": [
        "<a href=\"https://colab.research.google.com/github/ZainaShanan/BTE320/blob/main/CalculatorAssignment_withProf.ipynb\" target=\"_parent\"><img src=\"https://colab.research.google.com/assets/colab-badge.svg\" alt=\"Open In Colab\"/></a>"
      ]
    },
    {
      "cell_type": "code",
      "execution_count": null,
      "metadata": {
        "id": "9Rav-ORnMEaQ"
      },
      "outputs": [],
      "source": [
        "while True:\n",
        "  num1 = int(input(\"Enter first number: \"))\n",
        "  num2 = int(input(\"Enter second number: \"))\n",
        "  Operator = input(\"Enter the operator you want to use (+, -, *, /, //, %, **), break, continue:\")\n",
        "\n",
        "  if Operator == \"break\":\n",
        "    break\n",
        "\n",
        "  if Operator == \"+\":\n",
        "    answer = num1 + num2\n",
        "  elif Operator == \"-\":\n",
        "    answer = num1 - num2\n",
        "  elif Operator == \"*\":\n",
        "    answer = num1 * num2\n",
        "  elif Operator == \"/\":\n",
        "    answer = num1 / num2\n",
        "  elif Operator == \"//\":\n",
        "    answer = num1 // num2\n",
        "  elif Operator == \"%\":\n",
        "    answer = num1 % num2\n",
        "  elif Operator == \"**\":\n",
        "    answer = num1 ** num2\n",
        "  else:\n",
        "    print('Invalid operator:', Operator)\n",
        "    continue\n",
        "  print('Result:', answer)"
      ]
    }
  ]
}